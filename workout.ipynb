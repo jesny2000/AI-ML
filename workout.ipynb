{
 "cells": [
  {
   "cell_type": "code",
   "execution_count": 4,
   "id": "25a044eb-4985-48f6-8c9d-6e66b359834e",
   "metadata": {},
   "outputs": [
    {
     "name": "stdout",
     "output_type": "stream",
     "text": [
      "10\n"
     ]
    }
   ],
   "source": [
    "import numpy as np\n",
    "ar=np.array([10,20,30,40,50])\n",
    "print(ar[0])"
   ]
  },
  {
   "cell_type": "code",
   "execution_count": 5,
   "id": "4b79a59e-dee1-4097-bb84-0420ca63f45d",
   "metadata": {},
   "outputs": [
    {
     "name": "stdout",
     "output_type": "stream",
     "text": [
      "8\n"
     ]
    }
   ],
   "source": [
    "ar=np.array([[10,20,30],[40,50,8],[7,5,2]])\n",
    "print(ar[1,2])"
   ]
  },
  {
   "cell_type": "code",
   "execution_count": 6,
   "id": "2458ebf6-76f7-4aac-9d77-849eb087b1e1",
   "metadata": {},
   "outputs": [
    {
     "name": "stdout",
     "output_type": "stream",
     "text": [
      "[25 30]\n"
     ]
    }
   ],
   "source": [
    "arr=np.array([10,15,20,25,30])\n",
    "print(arr[arr>20])"
   ]
  },
  {
   "cell_type": "code",
   "execution_count": 7,
   "id": "24da074a-1126-4129-a3a7-d310bf3cfeeb",
   "metadata": {},
   "outputs": [
    {
     "name": "stdout",
     "output_type": "stream",
     "text": [
      "[15 20 25]\n"
     ]
    }
   ],
   "source": [
    "arr=np.array([10,15,20,25,30])\n",
    "print(arr[(arr>10)&(arr<30)])"
   ]
  },
  {
   "cell_type": "code",
   "execution_count": 8,
   "id": "28a1b538-8e00-4c1b-b69d-1e05c397125f",
   "metadata": {},
   "outputs": [
    {
     "name": "stdout",
     "output_type": "stream",
     "text": [
      "[1 3 5]\n"
     ]
    }
   ],
   "source": [
    "arr=np.array([1,2,3,4,5])\n",
    "print(arr[[0,2,4]])"
   ]
  },
  {
   "cell_type": "code",
   "execution_count": 9,
   "id": "aecb3623-291d-4778-80b5-1bcdc4b94626",
   "metadata": {},
   "outputs": [
    {
     "name": "stdout",
     "output_type": "stream",
     "text": [
      "[1 3 5]\n"
     ]
    }
   ],
   "source": [
    "arr=np.array([1,2,3,4,5])\n",
    "indeces=[0,2,4]\n",
    "print(arr[indeces])"
   ]
  },
  {
   "cell_type": "code",
   "execution_count": null,
   "id": "b366b2ee-1edb-4f5f-abb5-80b68cf2f44c",
   "metadata": {},
   "outputs": [],
   "source": []
  }
 ],
 "metadata": {
  "kernelspec": {
   "display_name": "Python 3 (ipykernel)",
   "language": "python",
   "name": "python3"
  },
  "language_info": {
   "codemirror_mode": {
    "name": "ipython",
    "version": 3
   },
   "file_extension": ".py",
   "mimetype": "text/x-python",
   "name": "python",
   "nbconvert_exporter": "python",
   "pygments_lexer": "ipython3",
   "version": "3.13.6"
  }
 },
 "nbformat": 4,
 "nbformat_minor": 5
}
