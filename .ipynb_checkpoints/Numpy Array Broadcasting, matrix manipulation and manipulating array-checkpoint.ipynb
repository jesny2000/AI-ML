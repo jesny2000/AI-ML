{
 "cells": [
  {
   "cell_type": "code",
   "execution_count": 1,
   "id": "31894adc-7fe1-4c8b-b5bc-7f6aa57e71f4",
   "metadata": {},
   "outputs": [
    {
     "data": {
      "text/plain": [
       "array([[11, 12, 13],\n",
       "       [14, 15, 16]])"
      ]
     },
     "execution_count": 1,
     "metadata": {},
     "output_type": "execute_result"
    }
   ],
   "source": [
    "import numpy as np\n",
    "array=np.array([[1,2,3],[4,5,6]])\n",
    "scalar=10\n",
    "result=array+scalar\n",
    "result"
   ]
  },
  {
   "cell_type": "code",
   "execution_count": 6,
   "id": "48014c4f-b28a-459b-adc4-d0f08cccfa2f",
   "metadata": {},
   "outputs": [
    {
     "name": "stdout",
     "output_type": "stream",
     "text": [
      "[[ 9  9]\n",
      " [13 11]]\n",
      "[[-7 -5]\n",
      " [-5 -1]]\n",
      "[[0.125      0.28571429]\n",
      " [0.44444444 0.83333333]]\n",
      "[[ 8 14]\n",
      " [36 30]]\n"
     ]
    }
   ],
   "source": [
    "\n",
    "x=np.array([[1,2],[4,5]])\n",
    "y=np.array([[8,7],[9,6]])\n",
    "print(np.add(x,y))\n",
    "print(np.subtract(x,y))\n",
    "print(np.divide(x,y))\n",
    "print(np.multiply(x,y))"
   ]
  },
  {
   "cell_type": "code",
   "execution_count": 7,
   "id": "6936f144-9ce3-4f51-8cad-1eb7523d004d",
   "metadata": {},
   "outputs": [
    {
     "name": "stdout",
     "output_type": "stream",
     "text": [
      "[[ 8 14]\n",
      " [36 30]]\n",
      "[[26 19]\n",
      " [77 58]]\n"
     ]
    }
   ],
   "source": [
    "x=np.array([[1,2],[4,5]])\n",
    "y=np.array([[8,7],[9,6]])\n",
    "print(np.multiply(x,y))\n",
    "# dot operation is used to perform matrix multiplication\n",
    "print(np.dot(x,y))"
   ]
  },
  {
   "cell_type": "code",
   "execution_count": 10,
   "id": "050a67d0-e759-41f1-874d-c1ca831d5a42",
   "metadata": {},
   "outputs": [
    {
     "name": "stdout",
     "output_type": "stream",
     "text": [
      "[[1.         1.41421356]\n",
      " [2.         2.23606798]]\n",
      "30\n",
      "[17 13]\n",
      "[15 15]\n"
     ]
    }
   ],
   "source": [
    "x=np.array([[1,2],[4,5]])\n",
    "y=np.array([[8,7],[9,6]])\n",
    "print(np.sqrt(x))\n",
    "print(np.sum(y))\n",
    "print(np.sum(y,axis=0))\n",
    "# when axis is 0 it add coloumn vice and for axis=1 it add the rows\n",
    "print(np.sum(y,axis=1))"
   ]
  },
  {
   "cell_type": "code",
   "execution_count": 14,
   "id": "74107f9d-f653-4948-b78e-788656c20a3b",
   "metadata": {},
   "outputs": [
    {
     "name": "stdout",
     "output_type": "stream",
     "text": [
      "[[1 2 3]\n",
      " [4 5 6]\n",
      " [7 8 9]]\n",
      "[[1 4 7]\n",
      " [2 5 8]\n",
      " [3 6 9]]\n"
     ]
    }
   ],
   "source": [
    "gf=np.array([[1,2,3],[4,5,6],[7,8,9]])\n",
    "print(gf,end='\\n\\n')\n",
    "print(gf.transpose())"
   ]
  },
  {
   "cell_type": "code",
   "execution_count": 18,
   "id": "6418e046-0f4b-4fb8-ac3e-1553e24a4251",
   "metadata": {},
   "outputs": [
    {
     "name": "stdout",
     "output_type": "stream",
     "text": [
      "\n",
      " Result:\n",
      " [1 2 5 8 7 6]\n"
     ]
    }
   ],
   "source": [
    "x=np.array([1,2,5])\n",
    "y=np.array([8,7,6])\n",
    "result=np.concatenate((x,y))\n",
    "print('\\n Result:\\n',result)"
   ]
  },
  {
   "cell_type": "code",
   "execution_count": 23,
   "id": "2948ca30-c349-4111-92e0-f9d68b371075",
   "metadata": {},
   "outputs": [
    {
     "name": "stdout",
     "output_type": "stream",
     "text": [
      "1st array: [1 2 3]\n",
      "2st array: [5 6 7]\n"
     ]
    },
    {
     "data": {
      "text/plain": [
       "array([[1, 2, 3],\n",
       "       [5, 6, 7]])"
      ]
     },
     "execution_count": 23,
     "metadata": {},
     "output_type": "execute_result"
    }
   ],
   "source": [
    "a=np.array([1,2,3])\n",
    "b=np.array([5,6,7])\n",
    "print(\"1st array:\",a)\n",
    "print(\"2st array:\",b)\n",
    "vert=np.vstack((a,b))\n",
    "vert"
   ]
  },
  {
   "cell_type": "code",
   "execution_count": 32,
   "id": "af1c19b1-90eb-4c39-ad2f-bbd7c0e853b2",
   "metadata": {},
   "outputs": [
    {
     "name": "stdout",
     "output_type": "stream",
     "text": [
      "1st array: [1 2 3]\n",
      "2st array: [5 6 7]\n"
     ]
    },
    {
     "data": {
      "text/plain": [
       "array([1, 2, 3, 5, 6, 7])"
      ]
     },
     "execution_count": 32,
     "metadata": {},
     "output_type": "execute_result"
    }
   ],
   "source": [
    "a=np.array([1,2,3])\n",
    "b=np.array([5,6,7])\n",
    "print(\"1st array:\",a)\n",
    "print(\"2st array:\",b)\n",
    "vert=np.hstack((a,b))\n",
    "vert"
   ]
  },
  {
   "cell_type": "code",
   "execution_count": 26,
   "id": "38ff834d-1ad4-4a73-919b-1ee74b1d6dbe",
   "metadata": {},
   "outputs": [
    {
     "name": "stdout",
     "output_type": "stream",
     "text": [
      "[0 1 2 3 4 5]\n",
      "[array([0, 1, 2]), array([3, 4, 5])]\n"
     ]
    }
   ],
   "source": [
    "array=np.arange(6)\n",
    "result=np.split(array,2)\n",
    "print(array)\n",
    "print(result)"
   ]
  },
  {
   "cell_type": "code",
   "execution_count": 30,
   "id": "e8613c25-be23-434f-a16a-de1730638778",
   "metadata": {},
   "outputs": [
    {
     "name": "stdout",
     "output_type": "stream",
     "text": [
      "[ 0  1  2  3  4  5  6  7  8  9 10 11 12]\n",
      "[array([0, 1, 2, 3]), array([4, 5, 6]), array([7, 8, 9]), array([10, 11, 12])]\n"
     ]
    }
   ],
   "source": [
    "array=np.arange(13)\n",
    "# use array_split for unequal split\n",
    "result=np.array_split(array,4)\n",
    "print(array)\n",
    "print(result)"
   ]
  },
  {
   "cell_type": "code",
   "execution_count": 33,
   "id": "9fb6c693-6a51-4b1a-8f67-0c1c9681cbec",
   "metadata": {},
   "outputs": [
    {
     "name": "stdout",
     "output_type": "stream",
     "text": [
      "[[ 1  2  3]\n",
      " [ 4  5  6]\n",
      " [ 7  8  9]\n",
      " [11 12 13]]\n"
     ]
    },
    {
     "data": {
      "text/plain": [
       "[array([[1, 2, 3],\n",
       "        [4, 5, 6]]),\n",
       " array([[ 7,  8,  9],\n",
       "        [11, 12, 13]])]"
      ]
     },
     "execution_count": 33,
     "metadata": {},
     "output_type": "execute_result"
    }
   ],
   "source": [
    "matrix=np.array([[1,2,3],[4,5,6],[7,8,9],[11,12,13]])\n",
    "result=np.vsplit(matrix,2)\n",
    "print (matrix)\n",
    "result"
   ]
  },
  {
   "cell_type": "code",
   "execution_count": 43,
   "id": "547c903c-a8b6-4fb0-bc0d-17f530cae21a",
   "metadata": {},
   "outputs": [
    {
     "name": "stdout",
     "output_type": "stream",
     "text": [
      "20 array\n",
      "[[ 1  2  3  5]\n",
      " [ 4  5  6  8]\n",
      " [ 7  8  9  7]\n",
      " [11 12 13  8]]\n",
      "Result [array([[ 1],\n",
      "       [ 4],\n",
      "       [ 7],\n",
      "       [11]]), array([[ 2],\n",
      "       [ 5],\n",
      "       [ 8],\n",
      "       [12]]), array([[ 3],\n",
      "       [ 6],\n",
      "       [ 9],\n",
      "       [13]]), array([[5],\n",
      "       [8],\n",
      "       [7],\n",
      "       [8]])]\n"
     ]
    }
   ],
   "source": [
    "matrix=np.array([[1,2,3,5],[4,5,6,8],[7,8,9,7],[11,12,13,8]])\n",
    "result=np.hsplit(matrix,4)\n",
    "print(\"20 array\")\n",
    "print(matrix)\n",
    "print(\"Result\",result)"
   ]
  },
  {
   "cell_type": "code",
   "execution_count": 45,
   "id": "f59681ea-e2d1-4009-bb5d-844ef89a0895",
   "metadata": {},
   "outputs": [
    {
     "name": "stdout",
     "output_type": "stream",
     "text": [
      "orginal ID: 2621696503376\n",
      "view ID: 2621696767824\n",
      "orginal array: [12  4  5  6  8 10]\n",
      "view array: [12  4  5  6  8 10]\n"
     ]
    }
   ],
   "source": [
    "arr=np.array([2,4,5,6,8,10])\n",
    "v=arr.view()\n",
    "print(\"orginal ID:\",id(arr))\n",
    "print(\"view ID:\",id(v))\n",
    "arr[0]=12\n",
    "print(\"orginal array:\",arr)\n",
    "print(\"view array:\",v)"
   ]
  },
  {
   "cell_type": "code",
   "execution_count": 46,
   "id": "69f930bc-c1c5-4ab9-9467-e317cb428963",
   "metadata": {},
   "outputs": [
    {
     "name": "stdout",
     "output_type": "stream",
     "text": [
      "orginal ID: 2621696768880\n",
      "copy ID: 2621696768976\n",
      "orginal array: [12  4  5  6  8 10]\n",
      "copy array: [ 2  4  5  6  8 10]\n"
     ]
    }
   ],
   "source": [
    "arr=np.array([2,4,5,6,8,10])\n",
    "c=arr.copy()\n",
    "print(\"orginal ID:\",id(arr))\n",
    "print(\"copy ID:\",id(c))\n",
    "arr[0]=12\n",
    "print(\"orginal array:\",arr)\n",
    "print(\"copy array:\",c)"
   ]
  },
  {
   "cell_type": "code",
   "execution_count": null,
   "id": "e287cf4c-8ec7-4aaa-af82-5db9525106ea",
   "metadata": {},
   "outputs": [],
   "source": []
  }
 ],
 "metadata": {
  "kernelspec": {
   "display_name": "Python 3 (ipykernel)",
   "language": "python",
   "name": "python3"
  },
  "language_info": {
   "codemirror_mode": {
    "name": "ipython",
    "version": 3
   },
   "file_extension": ".py",
   "mimetype": "text/x-python",
   "name": "python",
   "nbconvert_exporter": "python",
   "pygments_lexer": "ipython3",
   "version": "3.13.6"
  }
 },
 "nbformat": 4,
 "nbformat_minor": 5
}
