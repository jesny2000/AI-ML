{
 "cells": [
  {
   "cell_type": "code",
   "execution_count": 30,
   "id": "552f3a10-a50f-49da-8f2e-ba712bc677ed",
   "metadata": {},
   "outputs": [
    {
     "name": "stdout",
     "output_type": "stream",
     "text": [
      "      Names       City\n",
      "0   Gulshan      Delhi\n",
      "1  Shashank     Mumbai\n",
      "2     Bablu    Kolkata\n",
      "3  Abhishek      Delhi\n",
      "4     Anand    Chennai\n",
      "5       NaN  Bangalore\n",
      "6    Pratap  Hyderabad\n",
      "0     gULSHAN\n",
      "1    sHASHANK\n",
      "2       bABLU\n",
      "3    aBHISHEK\n",
      "4       aNAND\n",
      "5         NaN\n",
      "6      pRATAP\n",
      "Name: Names, dtype: object\n"
     ]
    }
   ],
   "source": [
    "#String manipulation in pandas\n",
    "\n",
    "import pandas as pd\n",
    "import numpy as np\n",
    "data = {'Names': ['Gulshan', 'Shashank', 'Bablu', 'Abhishek', 'Anand', np.nan, 'Pratap'],\n",
    "        'City': ['Delhi', 'Mumbai', 'Kolkata', 'Delhi', 'Chennai', 'Bangalore', 'Hyderabad']}\n",
    "df = pd.DataFrame(data)\n",
    "print(df)\n",
    "# print(df['Names'].str.lower())\n",
    "# print(df['Names'].str.upper())\n",
    "# print(df['Names'].str.strip())\n",
    "# df['Split_Names'] = df['Names'].str.split('a')\n",
    "# # df\n",
    "# print(df[['Names', 'Split_Names']])\n",
    "# # print(df['Names'].str.len())\n",
    "# print(\"\\nafter using cat:\")\n",
    "# print(df['Names'].str.cat(sep=', '))\n",
    "# print(df['City'].str.get_dummies())\n",
    "# print(df['Names'].str.startswith('G'))\n",
    "# print(df['Names'].str.endswith('h'))\n",
    "# print(df['Names'].str.replace('Gulshan', 'Gaurav'))\n",
    "# print(df['Names'].str.repeat(2))\n",
    "# print(df['Names'].str.count('a'))\n",
    "# print(df['Names'].str.find('a'))\n",
    "# print(df['Names'].str.findall('a'))\n",
    "# print(df['Names'].str.islower())\n",
    "# print(df['Names'].str.isupper())\n",
    "# print(df['Names'].str.isnumeric())\n",
    "print(df['Names'].str.swapcase())"
   ]
  },
  {
   "cell_type": "code",
   "execution_count": null,
   "id": "ef8a34df-19ae-4936-8874-2bbcd09e64ec",
   "metadata": {},
   "outputs": [],
   "source": []
  },
  {
   "cell_type": "code",
   "execution_count": null,
   "id": "1022ff3f-5f3e-453f-9ae4-653a6c0d5b18",
   "metadata": {},
   "outputs": [],
   "source": []
  }
 ],
 "metadata": {
  "kernelspec": {
   "display_name": "Python 3 (ipykernel)",
   "language": "python",
   "name": "python3"
  },
  "language_info": {
   "codemirror_mode": {
    "name": "ipython",
    "version": 3
   },
   "file_extension": ".py",
   "mimetype": "text/x-python",
   "name": "python",
   "nbconvert_exporter": "python",
   "pygments_lexer": "ipython3",
   "version": "3.13.6"
  }
 },
 "nbformat": 4,
 "nbformat_minor": 5
}
