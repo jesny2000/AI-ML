{
 "cells": [
  {
   "cell_type": "code",
   "execution_count": 30,
   "id": "552f3a10-a50f-49da-8f2e-ba712bc677ed",
   "metadata": {},
   "outputs": [
    {
     "name": "stdout",
     "output_type": "stream",
     "text": [
      "      Names       City\n",
      "0   Gulshan      Delhi\n",
      "1  Shashank     Mumbai\n",
      "2     Bablu    Kolkata\n",
      "3  Abhishek      Delhi\n",
      "4     Anand    Chennai\n",
      "5       NaN  Bangalore\n",
      "6    Pratap  Hyderabad\n",
      "0     gULSHAN\n",
      "1    sHASHANK\n",
      "2       bABLU\n",
      "3    aBHISHEK\n",
      "4       aNAND\n",
      "5         NaN\n",
      "6      pRATAP\n",
      "Name: Names, dtype: object\n"
     ]
    }
   ],
   "source": [
    "#String manipulation in pandas\n",
    "\n",
    "import pandas as pd\n",
    "import numpy as np\n",
    "data = {'Names': ['Gulshan', 'Shashank', 'Bablu', 'Abhishek', 'Anand', np.nan, 'Pratap'],\n",
    "        'City': ['Delhi', 'Mumbai', 'Kolkata', 'Delhi', 'Chennai', 'Bangalore', 'Hyderabad']}\n",
    "df = pd.DataFrame(data)\n",
    "print(df)\n",
    "# print(df['Names'].str.lower())\n",
    "# print(df['Names'].str.upper())\n",
    "# print(df['Names'].str.strip())\n",
    "# df['Split_Names'] = df['Names'].str.split('a')\n",
    "# # df\n",
    "# print(df[['Names', 'Split_Names']])\n",
    "# # print(df['Names'].str.len())\n",
    "# print(\"\\nafter using cat:\")\n",
    "# print(df['Names'].str.cat(sep=', '))\n",
    "# print(df['City'].str.get_dummies())\n",
    "# print(df['Names'].str.startswith('G'))\n",
    "# print(df['Names'].str.endswith('h'))\n",
    "# print(df['Names'].str.replace('Gulshan', 'Gaurav'))\n",
    "# print(df['Names'].str.repeat(2))\n",
    "# print(df['Names'].str.count('a'))\n",
    "# print(df['Names'].str.find('a'))\n",
    "# print(df['Names'].str.findall('a'))\n",
    "# print(df['Names'].str.islower())\n",
    "# print(df['Names'].str.isupper())\n",
    "# print(df['Names'].str.isnumeric())\n",
    "print(df['Names'].str.swapcase())"
   ]
  },
  {
   "cell_type": "code",
   "execution_count": 32,
   "id": "ef8a34df-19ae-4936-8874-2bbcd09e64ec",
   "metadata": {},
   "outputs": [
    {
     "name": "stdout",
     "output_type": "stream",
     "text": [
      "<class 'pandas.core.frame.DataFrame'>\n",
      "RangeIndex: 3 entries, 0 to 2\n",
      "Data columns (total 2 columns):\n",
      " #   Column  Non-Null Count  Dtype \n",
      "---  ------  --------------  ----- \n",
      " 0   Name    3 non-null      object\n",
      " 1   Age     3 non-null      object\n",
      "dtypes: object(2)\n",
      "memory usage: 180.0+ bytes\n",
      "None\n",
      "Name : string\n",
      "Age : mixed-integer\n"
     ]
    }
   ],
   "source": [
    "import pandas as pd\n",
    "  \n",
    "# Create the pandas DataFrame\n",
    "data_frame = pd.DataFrame( [['tom', 10], ['nick', '15'], ['juli', 14.5]], columns=['Name', 'Age'])\n",
    "\n",
    "print(data_frame.info())\n",
    "\n",
    "# Traverse data frame to detect mixed data types\n",
    "for column in data_frame.columns:\n",
    "    print(column,':',pd.api.types.infer_dtype(data_frame[column]))"
   ]
  },
  {
   "cell_type": "code",
   "execution_count": 33,
   "id": "1022ff3f-5f3e-453f-9ae4-653a6c0d5b18",
   "metadata": {},
   "outputs": [
    {
     "name": "stdout",
     "output_type": "stream",
     "text": [
      "Name : string\n",
      "Age : integer\n"
     ]
    }
   ],
   "source": [
    "# Python program to fix mixed data types using astype() in Pandas data frame\n",
    "\n",
    "# Import the library Pandas\n",
    "import pandas as pd\n",
    "  \n",
    "# Create the pandas DataFrame\n",
    "data_frame = pd.DataFrame( [['tom', 10], ['nick', '15'], ['juli', 14.8]], columns=['Name', 'Age'])\n",
    "\n",
    "# Transforming mixed data types to single data type\n",
    "data_frame[column] = data_frame[column].astype(int)\n",
    "\n",
    "# Traverse data frame to detect data types after fix\n",
    "for column in data_frame.columns:\n",
    "    print(column,':',pd.api.types.infer_dtype(data_frame[column]))"
   ]
  },
  {
   "cell_type": "code",
   "execution_count": 34,
   "id": "9e7bd078-b0a0-43cc-95f9-66219b41723b",
   "metadata": {},
   "outputs": [
    {
     "name": "stdout",
     "output_type": "stream",
     "text": [
      "Name : string\n",
      "Age : floating\n"
     ]
    },
    {
     "name": "stderr",
     "output_type": "stream",
     "text": [
      "C:\\Users\\JESNY\\AppData\\Local\\Temp\\ipykernel_14740\\3832855034.py:9: FutureWarning: errors='ignore' is deprecated and will raise in a future version. Use to_numeric without passing `errors` and catch exceptions explicitly instead\n",
      "  data_frame[column] = data_frame[column].apply(lambda x: pd.to_numeric(x, errors='ignore'))\n"
     ]
    }
   ],
   "source": [
    "# Create DataFrame\n",
    "data_frame = pd.DataFrame(\n",
    "    [['tom', 10], ['nick', '15'], ['juli', 14.8]],\n",
    "    columns=['Name', 'Age']\n",
    ")\n",
    "\n",
    "# Transform mixed data types to single data type\n",
    "for column in data_frame.columns:\n",
    "    data_frame[column] = data_frame[column].apply(lambda x: pd.to_numeric(x, errors='ignore'))\n",
    "\n",
    "# Detect data types after fix\n",
    "for column in data_frame.columns:\n",
    "    print(column, \":\", pd.api.types.infer_dtype(data_frame[column]))"
   ]
  },
  {
   "cell_type": "code",
   "execution_count": 1,
   "id": "fbc0921a-f235-43da-af6d-b1976768cd95",
   "metadata": {},
   "outputs": [
    {
     "name": "stdout",
     "output_type": "stream",
     "text": [
      "Original Data Types:\n",
      "Name          object\n",
      "Age           object\n",
      "Salary        object\n",
      "Department    object\n",
      "dtype: object \n",
      "\n",
      "🕵️ Mixed or convertible columns detected: ['Name', 'Age', 'Salary', 'Department'] \n",
      "\n",
      "✅ Fixed Data Types:\n",
      "Name           object\n",
      "Age           float64\n",
      "Salary        float64\n",
      "Department     object\n",
      "dtype: object \n",
      "\n",
      "Name → string\n",
      "Age → floating\n",
      "Salary → floating\n",
      "Department → string\n"
     ]
    },
    {
     "name": "stderr",
     "output_type": "stream",
     "text": [
      "C:\\Users\\JESNY\\AppData\\Local\\Temp\\ipykernel_11204\\3883366871.py:25: FutureWarning: errors='ignore' is deprecated and will raise in a future version. Use to_numeric without passing `errors` and catch exceptions explicitly instead\n",
      "  data_frame[col] = pd.to_numeric(data_frame[col], errors='ignore')\n"
     ]
    }
   ],
   "source": [
    "import pandas as pd\n",
    "\n",
    "# Example DataFrame with mixed types\n",
    "data_frame = pd.DataFrame({\n",
    "    'Name': ['Tom', 'Nick', 'Juli'],\n",
    "    'Age': [10, '15', 14.8],\n",
    "    'Salary': ['25000', 30000, '35000.50'],\n",
    "    'Department': ['HR', 'IT', 'Finance']\n",
    "})\n",
    "\n",
    "print(\"Original Data Types:\")\n",
    "print(data_frame.dtypes, '\\n')\n",
    "\n",
    "# Step 1: Detect mixed-type columns\n",
    "mixed_columns = []\n",
    "for col in data_frame.columns:\n",
    "    inferred = pd.api.types.infer_dtype(data_frame[col])\n",
    "    if 'mixed' in inferred or inferred in ['string', 'mixed-integer']:\n",
    "        mixed_columns.append(col)\n",
    "\n",
    "print(\"Mixed or convertible columns detected:\", mixed_columns, '\\n')\n",
    "\n",
    "# Step 2: Fix mixed columns using pd.to_numeric()\n",
    "for col in mixed_columns:\n",
    "    data_frame[col] = pd.to_numeric(data_frame[col], errors='ignore')\n",
    "\n",
    "# Step 3: Show fixed dtypes\n",
    "print(\"Fixed Data Types:\")\n",
    "print(data_frame.dtypes, '\\n')\n",
    "\n",
    "# Step 4: Verify data type inference\n",
    "for col in data_frame.columns:\n",
    "    print(f\"{col} → {pd.api.types.infer_dtype(data_frame[col])}\")"
   ]
  },
  {
   "cell_type": "code",
   "execution_count": null,
   "id": "9be06b4b-abc6-4b08-b4c2-ddf19f04b6f1",
   "metadata": {},
   "outputs": [],
   "source": []
  }
 ],
 "metadata": {
  "kernelspec": {
   "display_name": "Python 3 (ipykernel)",
   "language": "python",
   "name": "python3"
  },
  "language_info": {
   "codemirror_mode": {
    "name": "ipython",
    "version": 3
   },
   "file_extension": ".py",
   "mimetype": "text/x-python",
   "name": "python",
   "nbconvert_exporter": "python",
   "pygments_lexer": "ipython3",
   "version": "3.13.6"
  }
 },
 "nbformat": 4,
 "nbformat_minor": 5
}
